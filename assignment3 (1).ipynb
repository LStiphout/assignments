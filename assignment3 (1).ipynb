{
 "cells": [
  {
   "cell_type": "markdown",
   "metadata": {},
   "source": [
    "Before you turn this problem in, make sure everything runs as expected. First, **restart the kernel** (in the menubar, select Kernel$\\rightarrow$Restart) and then **run all cells** (in the menubar, select Cell$\\rightarrow$Run All).\n",
    "\n",
    "Make sure you fill in any place that says `YOUR CODE HERE` or \"YOUR ANSWER HERE\", as well as your name and collaborators below:"
   ]
  },
  {
   "cell_type": "code",
   "execution_count": 9,
   "metadata": {},
   "outputs": [],
   "source": [
    "NAME = \"Luuk Stiphout 2014800\"\n",
    "COLLABORATORS = \"\""
   ]
  },
  {
   "cell_type": "markdown",
   "metadata": {},
   "source": [
    "---"
   ]
  },
  {
   "cell_type": "markdown",
   "metadata": {
    "collapsed": true
   },
   "source": [
    "Fill in the cell above to provide us with your name and student number, like\n",
    "\n",
    "NAME = \"Adam Smith, #student number#\"\n",
    "\n",
    "where you replace \"#student number#\" with your ... (very good!)\n",
    "\n",
    "and if you are doing this with someone else (not more than one other person):\n",
    "\n",
    "COLLABORATORS = \"Karl Marx, #student number#\""
   ]
  },
  {
   "cell_type": "markdown",
   "metadata": {},
   "source": [
    "# Assignment 3\n",
    "\n",
    "This is the assignment for week 3. This was actually an exam in a previous year. We give the points to give you an idea of how such an exam works. However, we grade assignments only as pass or fail."
   ]
  },
  {
   "cell_type": "markdown",
   "metadata": {},
   "source": [
    "# Bargaining model\n",
    "\n",
    "In a previous class we considered a two period bargaining model. Then we extended this to a three period model.\n",
    "\n",
    "In this assignment we are going to extend the model to $n$ periods, where $n$ is a variable.\n",
    "\n",
    "\n",
    "# Import libraries\n",
    "\n",
    "First, we need to import some libraries:"
   ]
  },
  {
   "cell_type": "code",
   "execution_count": 10,
   "metadata": {},
   "outputs": [],
   "source": [
    "import numpy as np\n",
    "import matplotlib.pyplot as plt\n",
    "%matplotlib inline\n"
   ]
  },
  {
   "cell_type": "markdown",
   "metadata": {},
   "source": [
    "**1)** [0.5 point] Use `np.arange` to create a list of offers between 0.0 and 10.0 (including 10.0) with step 0.1:"
   ]
  },
  {
   "cell_type": "code",
   "execution_count": 11,
   "metadata": {
    "deletable": false,
    "nbgrader": {
     "checksum": "d307dbf321ecc17e8f36bf84250487f7",
     "grade": false,
     "grade_id": "cell-9de67a6b55a0507a",
     "locked": false,
     "schema_version": 1,
     "solution": true
    }
   },
   "outputs": [],
   "source": [
    "min_offer=0.0\n",
    "max_offer=10.0\n",
    "offers=np.arange(min_offer,max_offer+0.1,0.1)"
   ]
  },
  {
   "cell_type": "markdown",
   "metadata": {},
   "source": [
    "**2)** [0.5 point] Introduce the functions `accept_offer` and `make_offer` as in the previous class:"
   ]
  },
  {
   "cell_type": "code",
   "execution_count": 12,
   "metadata": {
    "deletable": false,
    "nbgrader": {
     "checksum": "eed57be9b8022e54e2b188c5ecd28d32",
     "grade": false,
     "grade_id": "cell-559c0b6b9ac1df79",
     "locked": false,
     "schema_version": 1,
     "solution": true
    }
   },
   "outputs": [],
   "source": [
    "def accept_offer(offer,your_outside_option):\n",
    "    accept = (offer >= your_outside_option)\n",
    "    return accept\n",
    "\n",
    "def make_offer(your_outside_option,other_outside_option):\n",
    "    profits = [(max_offer-offer)*accept_offer(offer,other_outside_option) for offer in offers]\n",
    "    max_profit = max(profits)\n",
    "    max_index = profits.index(max_profit)\n",
    "    if max_profit >= your_outside_option:\n",
    "        your_offer = offers[max_index]\n",
    "        your_profit = max_offer-offers[max_index]\n",
    "        other_profit = offers[max_index]\n",
    "    else:\n",
    "        your_offer = -1 # no offer is made\n",
    "        your_profit = your_outside_option\n",
    "        other_profit = other_outside_option\n",
    "    return your_offer, your_profit, other_profit"
   ]
  },
  {
   "cell_type": "markdown",
   "metadata": {},
   "source": [
    "**3)** [0.5 point] Initialize a dictionary `offer` as in the notebook of week 2:"
   ]
  },
  {
   "cell_type": "code",
   "execution_count": 13,
   "metadata": {
    "deletable": false,
    "nbgrader": {
     "checksum": "a395e8a21829eb0985e126bb00b64021",
     "grade": false,
     "grade_id": "cell-dfb4c40f2bdc4717",
     "locked": false,
     "schema_version": 1,
     "solution": true
    }
   },
   "outputs": [],
   "source": [
    "offer={}"
   ]
  },
  {
   "cell_type": "markdown",
   "metadata": {},
   "source": [
    "**4)** [0.5 point] Complete the following function (i.e. replace \"?????\") such that it returns the payoffs to players 1 and 2 for a game of length $n$ periods when the discount factor is given by $\\delta$:"
   ]
  },
  {
   "cell_type": "code",
   "execution_count": 14,
   "metadata": {},
   "outputs": [],
   "source": [
    "def outcome(n,delta):\n",
    "    offer[n+1]=[0,0,0]\n",
    "    for i in range(n):\n",
    "        offer[n-i]=make_offer(delta*offer[n-i+1][2],delta*offer[n-i+1][1])\n",
    "    return offer[1][1], offer[1][2]"
   ]
  },
  {
   "cell_type": "code",
   "execution_count": null,
   "metadata": {
    "deletable": false,
    "nbgrader": {
     "checksum": "49b19c028353b54d4af2c45eb93abfdd",
     "grade": false,
     "grade_id": "cell-e53660a4ea45ceb0",
     "locked": false,
     "schema_version": 1,
     "solution": true
    }
   },
   "outputs": [],
   "source": []
  },
  {
   "cell_type": "markdown",
   "metadata": {},
   "source": [
    "**5)** [0.5 point] Check the outcomes for the case where $n=1, 2$ and $n=3$ (these are outcomes that you have seen before)."
   ]
  },
  {
   "cell_type": "code",
   "execution_count": 15,
   "metadata": {
    "deletable": false,
    "nbgrader": {
     "checksum": "db3596355191628ff30630ea1e39ae9e",
     "grade": false,
     "grade_id": "cell-61e5b201c87f79db",
     "locked": false,
     "schema_version": 1,
     "solution": true
    }
   },
   "outputs": [
    {
     "name": "stdout",
     "output_type": "stream",
     "text": [
      "(10.0, 0.0)\n",
      "(1.0, 9.0)\n",
      "(9.1, 0.9)\n"
     ]
    }
   ],
   "source": [
    "print(outcome(1,0.9))\n",
    "print(outcome(2,0.9))\n",
    "print(outcome(3,0.9))"
   ]
  },
  {
   "cell_type": "markdown",
   "metadata": {},
   "source": [
    "**6)** [1 point] Plot for the case with $\\delta =0.9$, the payoff for player 1 of a game that lasts for 1 round, a game that lasts for 2 rounds, up till a game that lasts 30 rounds. On the horizontal axis, we have the length of the game; on the vertical axis the payoff to player 1."
   ]
  },
  {
   "cell_type": "code",
   "execution_count": 16,
   "metadata": {
    "deletable": false,
    "nbgrader": {
     "checksum": "0b3da29b42397e0a2662e462d55a2aba",
     "grade": false,
     "grade_id": "cell-fcf90dee233cef99",
     "locked": false,
     "schema_version": 1,
     "solution": true
    }
   },
   "outputs": [
    {
     "data": {
      "image/png": "[encoded data removed]",
      "text/plain": [
       "<matplotlib.figure.Figure at 0x1728f16ec18>"
      ]
     },
     "metadata": {},
     "output_type": "display_data"
    }
   ],
   "source": [
    "x_range = np.arange(1,31,1)\n",
    "plt.plot(x_range,[outcome(x,0.9)[0] for x in x_range])\n",
    "plt.xlabel('#Rounds')\n",
    "plt.ylabel('Payoff')\n",
    "plt.title('bargaining model')\n",
    "plt.show()"
   ]
  },
  {
   "cell_type": "markdown",
   "metadata": {},
   "source": [
    "**7)** [0.5 point] What pattern do you see in the graph? What is the intuition/explanation for this?"
   ]
  },
  {
   "cell_type": "markdown",
   "metadata": {
    "deletable": false,
    "nbgrader": {
     "checksum": "d4f45cf90d2d99fa9abe336eb5e07369",
     "grade": true,
     "grade_id": "cell-28564be6ef652072",
     "locked": false,
     "points": 0,
     "schema_version": 1,
     "solution": true
    }
   },
   "source": [
    "YOUR ANSWER HERE"
   ]
  },
  {
   "cell_type": "code",
   "execution_count": 17,
   "metadata": {},
   "outputs": [],
   "source": [
    "# Your payoff(player1) goes up and down, because the one with the last offer will be able to take a bigger share.  "
   ]
  }
 ],
 "metadata": {
  "anaconda-cloud": {},
  "kernelspec": {
   "display_name": "Python 3",
   "language": "python",
   "name": "python3"
  },
  "language_info": {
   "codemirror_mode": {
    "name": "ipython",
    "version": 3
   },
   "file_extension": ".py",
   "mimetype": "text/x-python",
   "name": "python",
   "nbconvert_exporter": "python",
   "pygments_lexer": "ipython3",
   "version": "3.6.4"
  }
 },
 "nbformat": 4,
 "nbformat_minor": 2
}
