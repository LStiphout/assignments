{
 "cells": [
  {
   "cell_type": "code",
   "execution_count": 30,
   "metadata": {},
   "outputs": [],
   "source": [
    "NAME = \"Luuk Stiphout, 2014800, U346564\"\n",
    "COLLABORATORS = \"Casha van Wanrooij, 2014934, U581640\""
   ]
  },
  {
   "cell_type": "markdown",
   "metadata": {},
   "source": [
    "# Exam R\n",
    "Mark Klik & Misja Mikkers\n",
    "\n",
    "# Introduction\n",
    "\n",
    "The exam consists of 2 parts. In the first part, you have to run a regression, test if the assumptions of a linear regression model are met, and make 2 graphs.\n",
    "\n",
    "In the second part of the exam, you will have to make a map of Catholic and Protestant schools in the Netherlands.\n",
    "\n",
    "# Packages\n"
   ]
  },
  {
   "cell_type": "code",
   "execution_count": 31,
   "metadata": {},
   "outputs": [],
   "source": [
    "library(tidyverse)\n",
    "library(gvlma)"
   ]
  },
  {
   "cell_type": "markdown",
   "metadata": {},
   "source": [
    "# Assignment 1\n",
    "\n",
    "\n",
    "## Data\n",
    "\n",
    "The data are given:\n"
   ]
  },
  {
   "cell_type": "code",
   "execution_count": 32,
   "metadata": {},
   "outputs": [
    {
     "data": {
      "text/html": [
       "<table>\n",
       "<thead><tr><th scope=col>V1</th><th scope=col>epsilon</th><th scope=col>response</th><th scope=col>group</th></tr></thead>\n",
       "<tbody>\n",
       "\t<tr><td>3.588198  </td><td>-3.3733866</td><td> -7.549782</td><td>1         </td></tr>\n",
       "\t<tr><td>8.094746  </td><td> 1.6755741</td><td>-11.513918</td><td>2         </td></tr>\n",
       "\t<tr><td>4.680792  </td><td> 0.3067462</td><td> -6.054838</td><td>1         </td></tr>\n",
       "\t<tr><td>8.947157  </td><td>-2.2762739</td><td>-17.170587</td><td>2         </td></tr>\n",
       "\t<tr><td>9.464206  </td><td> 2.5076298</td><td>-13.420781</td><td>2         </td></tr>\n",
       "\t<tr><td>1.410008  </td><td> 0.8529284</td><td>  1.032911</td><td>1         </td></tr>\n",
       "</tbody>\n",
       "</table>\n"
      ],
      "text/latex": [
       "\\begin{tabular}{r|llll}\n",
       " V1 & epsilon & response & group\\\\\n",
       "\\hline\n",
       "\t 3.588198   & -3.3733866 &  -7.549782 & 1         \\\\\n",
       "\t 8.094746   &  1.6755741 & -11.513918 & 2         \\\\\n",
       "\t 4.680792   &  0.3067462 &  -6.054838 & 1         \\\\\n",
       "\t 8.947157   & -2.2762739 & -17.170587 & 2         \\\\\n",
       "\t 9.464206   &  2.5076298 & -13.420781 & 2         \\\\\n",
       "\t 1.410008   &  0.8529284 &   1.032911 & 1         \\\\\n",
       "\\end{tabular}\n"
      ],
      "text/markdown": [
       "\n",
       "V1 | epsilon | response | group | \n",
       "|---|---|---|---|---|---|\n",
       "| 3.588198   | -3.3733866 |  -7.549782 | 1          | \n",
       "| 8.094746   |  1.6755741 | -11.513918 | 2          | \n",
       "| 4.680792   |  0.3067462 |  -6.054838 | 1          | \n",
       "| 8.947157   | -2.2762739 | -17.170587 | 2          | \n",
       "| 9.464206   |  2.5076298 | -13.420781 | 2          | \n",
       "| 1.410008   |  0.8529284 |   1.032911 | 1          | \n",
       "\n",
       "\n"
      ],
      "text/plain": [
       "  V1       epsilon    response   group\n",
       "1 3.588198 -3.3733866  -7.549782 1    \n",
       "2 8.094746  1.6755741 -11.513918 2    \n",
       "3 4.680792  0.3067462  -6.054838 1    \n",
       "4 8.947157 -2.2762739 -17.170587 2    \n",
       "5 9.464206  2.5076298 -13.420781 2    \n",
       "6 1.410008  0.8529284   1.032911 1    "
      ]
     },
     "metadata": {},
     "output_type": "display_data"
    }
   ],
   "source": [
    "set.seed(123)\n",
    "df1 <- as.data.frame(matrix(runif(1*50, min = 1, max = 10), ncol = 1)) %>%\n",
    "    mutate(epsilon = rnorm(50, mean = 0, sd = 2)) %>%\n",
    "    mutate(response = 3 - 2* V1  + epsilon) %>%\n",
    "    mutate(group = ifelse(V1 <= 5, 1,2))\n",
    "\n",
    "head(df1)"
   ]
  },
  {
   "cell_type": "markdown",
   "metadata": {},
   "source": [
    "## Asignment 1a\n",
    "\n",
    "The first assigment is to make boxplot using ggplot with group on the x-axis and V1 on the y-axis."
   ]
  },
  {
   "cell_type": "code",
   "execution_count": 33,
   "metadata": {},
   "outputs": [
    {
     "data": {},
     "metadata": {},
     "output_type": "display_data"
    },
    {
     "data": {
      "image/png": "[encoded data removed]",
      "text/plain": [
       "plot without title"
      ]
     },
     "metadata": {},
     "output_type": "display_data"
    }
   ],
   "source": [
    "first_plot <-ggplot(data = df1, aes(group=group,x= group, y = V1)) + \n",
    "geom_boxplot() + \n",
    "scale_x_discrete(limit = c('1', '2'))\n",
    "    \n",
    "\n",
    "first_plot"
   ]
  },
  {
   "cell_type": "markdown",
   "metadata": {},
   "source": [
    "###### 1a explanation\n",
    "***\n",
    "\n",
    "We specify *data=df1* to use the df1 dataframe. We use *geom_boxplot()* to create a boxplot. We use *scale_x_discrete()* to  indicate that there are only 2 group values which are intigers."
   ]
  },
  {
   "cell_type": "markdown",
   "metadata": {},
   "source": [
    "## Assignment 1b\n",
    "\n",
    "Run a regression with response variable as a function of V1.\n",
    "Show the summary statistics of the regression.\n"
   ]
  },
  {
   "cell_type": "code",
   "execution_count": 34,
   "metadata": {},
   "outputs": [
    {
     "data": {
      "text/plain": [
       "\n",
       "Call:\n",
       "lm(formula = response ~ V1, data = df1)\n",
       "\n",
       "Residuals:\n",
       "    Min      1Q  Median      3Q     Max \n",
       "-4.5116 -1.1157 -0.1313  1.0985  4.3723 \n",
       "\n",
       "Coefficients:\n",
       "            Estimate Std. Error t value Pr(>|t|)    \n",
       "(Intercept)   2.6305     0.6347   4.145 0.000138 ***\n",
       "V1           -1.9152     0.1014 -18.880  < 2e-16 ***\n",
       "---\n",
       "Signif. codes:  0 '***' 0.001 '**' 0.01 '*' 0.05 '.' 0.1 ' ' 1\n",
       "\n",
       "Residual standard error: 1.881 on 48 degrees of freedom\n",
       "Multiple R-squared:  0.8813,\tAdjusted R-squared:  0.8788 \n",
       "F-statistic: 356.4 on 1 and 48 DF,  p-value: < 2.2e-16\n"
      ]
     },
     "metadata": {},
     "output_type": "display_data"
    }
   ],
   "source": [
    "reg1 <- lm(data=df1, response ~ V1)\n",
    "summary(reg1)"
   ]
  },
  {
   "cell_type": "markdown",
   "metadata": {},
   "source": [
    "check if the assumptions of linear regression are met with the `gvlma()` function."
   ]
  },
  {
   "cell_type": "code",
   "execution_count": 35,
   "metadata": {},
   "outputs": [
    {
     "data": {
      "text/plain": [
       "\n",
       "Call:\n",
       "lm(formula = response ~ V1, data = df1)\n",
       "\n",
       "Coefficients:\n",
       "(Intercept)           V1  \n",
       "      2.630       -1.915  \n",
       "\n",
       "\n",
       "ASSESSMENT OF THE LINEAR MODEL ASSUMPTIONS\n",
       "USING THE GLOBAL TEST ON 4 DEGREES-OF-FREEDOM:\n",
       "Level of Significance =  0.05 \n",
       "\n",
       "Call:\n",
       " gvlma(x = reg1) \n",
       "\n",
       "                      Value p-value                Decision\n",
       "Global Stat        0.654319  0.9568 Assumptions acceptable.\n",
       "Skewness           0.002398  0.9609 Assumptions acceptable.\n",
       "Kurtosis           0.007200  0.9324 Assumptions acceptable.\n",
       "Link Function      0.005852  0.9390 Assumptions acceptable.\n",
       "Heteroscedasticity 0.638869  0.4241 Assumptions acceptable."
      ]
     },
     "metadata": {},
     "output_type": "display_data"
    }
   ],
   "source": [
    "gvlma(reg1)"
   ]
  },
  {
   "cell_type": "markdown",
   "metadata": {},
   "source": [
    "###### 1b explanation\n",
    "***\n",
    "\n",
    "We use *lm()* for our regression and *summary()* to give an overview of various properties of the regression model. *gvlma()* gives us the diagnostics of the regression. As you can see, it lists all assumptions as acceptable. Subsequently it can be concluded that all assumption of the linear regression are met given a significance level of 0.05."
   ]
  },
  {
   "cell_type": "markdown",
   "metadata": {},
   "source": [
    "## Assignment 1c\n",
    "\n",
    "Make a scatterplot with: \n",
    "* V1 on the x-axis and the response on the y-axis\n",
    "* Include the regression line in red with confidence interval \n",
    "* In a classic theme\n",
    "* The x-axis should be labeled \"Predictor\", the y-axis should be labeled (\"Response\")\n",
    "\n"
   ]
  },
  {
   "cell_type": "code",
   "execution_count": 36,
   "metadata": {},
   "outputs": [
    {
     "data": {},
     "metadata": {},
     "output_type": "display_data"
    },
    {
     "data": {
      "image/png": "[encoded data removed]",
      "text/plain": [
       "plot without title"
      ]
     },
     "metadata": {},
     "output_type": "display_data"
    }
   ],
   "source": [
    "second_plot <- ggplot(data = df1, aes(y= response, x = V1)) \n",
    "second_plot + geom_point() + geom_smooth(method = \"lm\", se = TRUE, color=\"red\") + theme_classic() + xlab(\"Predictor\") + ylab(\"Response\")"
   ]
  },
  {
   "cell_type": "markdown",
   "metadata": {},
   "source": [
    "###### 1c explanation\n",
    "***\n",
    "\n",
    "First we plot a scatter plot using the data of df1 using *geom_point()*. Then we use *geom_smooth()* to generate a regression line, we specify *method = \"lm\"* for linear regression and *se=true* to include a visual confidence interval. We specify *color=red* within geom_smooth to get a red line, and we label the x and y axis with xlabel and ylabel respectively. Lastly we use *theme_classic()* to give the graph a classic theme."
   ]
  },
  {
   "cell_type": "markdown",
   "metadata": {},
   "source": [
    "# Assigment 2\n",
    "\n",
    "# Packages"
   ]
  },
  {
   "cell_type": "code",
   "execution_count": 37,
   "metadata": {},
   "outputs": [],
   "source": [
    "library(thematicmaps)\n",
    "library(tidyverse)"
   ]
  },
  {
   "cell_type": "markdown",
   "metadata": {},
   "source": [
    "## Assignment 2a\n",
    "\n",
    "First you have to read in the file \"nld_municipal_map.csv\".\n",
    "Hint: Look at the notebook of week 6 about maps."
   ]
  },
  {
   "cell_type": "code",
   "execution_count": 38,
   "metadata": {},
   "outputs": [
    {
     "data": {
      "text/html": [
       "<table>\n",
       "<thead><tr><th scope=col>name</th><th scope=col>id</th><th scope=col>x</th><th scope=col>y</th><th scope=col>order</th><th scope=col>hole</th><th scope=col>piece</th><th scope=col>group</th></tr></thead>\n",
       "<tbody>\n",
       "\t<tr><td>Appingedam</td><td>0         </td><td>251260.5  </td><td>594393.8  </td><td>1         </td><td>FALSE     </td><td>1         </td><td>0.1       </td></tr>\n",
       "\t<tr><td>Appingedam</td><td>0         </td><td>251427.8  </td><td>594486.7  </td><td>2         </td><td>FALSE     </td><td>1         </td><td>0.1       </td></tr>\n",
       "\t<tr><td>Appingedam</td><td>0         </td><td>251668.8  </td><td>594646.8  </td><td>3         </td><td>FALSE     </td><td>1         </td><td>0.1       </td></tr>\n",
       "\t<tr><td>Appingedam</td><td>0         </td><td>251713.5  </td><td>594770.9  </td><td>4         </td><td>FALSE     </td><td>1         </td><td>0.1       </td></tr>\n",
       "\t<tr><td>Appingedam</td><td>0         </td><td>251354.6  </td><td>595461.4  </td><td>5         </td><td>FALSE     </td><td>1         </td><td>0.1       </td></tr>\n",
       "\t<tr><td>Appingedam</td><td>0         </td><td>251310.3  </td><td>596022.5  </td><td>6         </td><td>FALSE     </td><td>1         </td><td>0.1       </td></tr>\n",
       "</tbody>\n",
       "</table>\n"
      ],
      "text/latex": [
       "\\begin{tabular}{r|llllllll}\n",
       " name & id & x & y & order & hole & piece & group\\\\\n",
       "\\hline\n",
       "\t Appingedam & 0          & 251260.5   & 594393.8   & 1          & FALSE      & 1          & 0.1       \\\\\n",
       "\t Appingedam & 0          & 251427.8   & 594486.7   & 2          & FALSE      & 1          & 0.1       \\\\\n",
       "\t Appingedam & 0          & 251668.8   & 594646.8   & 3          & FALSE      & 1          & 0.1       \\\\\n",
       "\t Appingedam & 0          & 251713.5   & 594770.9   & 4          & FALSE      & 1          & 0.1       \\\\\n",
       "\t Appingedam & 0          & 251354.6   & 595461.4   & 5          & FALSE      & 1          & 0.1       \\\\\n",
       "\t Appingedam & 0          & 251310.3   & 596022.5   & 6          & FALSE      & 1          & 0.1       \\\\\n",
       "\\end{tabular}\n"
      ],
      "text/markdown": [
       "\n",
       "name | id | x | y | order | hole | piece | group | \n",
       "|---|---|---|---|---|---|\n",
       "| Appingedam | 0          | 251260.5   | 594393.8   | 1          | FALSE      | 1          | 0.1        | \n",
       "| Appingedam | 0          | 251427.8   | 594486.7   | 2          | FALSE      | 1          | 0.1        | \n",
       "| Appingedam | 0          | 251668.8   | 594646.8   | 3          | FALSE      | 1          | 0.1        | \n",
       "| Appingedam | 0          | 251713.5   | 594770.9   | 4          | FALSE      | 1          | 0.1        | \n",
       "| Appingedam | 0          | 251354.6   | 595461.4   | 5          | FALSE      | 1          | 0.1        | \n",
       "| Appingedam | 0          | 251310.3   | 596022.5   | 6          | FALSE      | 1          | 0.1        | \n",
       "\n",
       "\n"
      ],
      "text/plain": [
       "  name       id x        y        order hole  piece group\n",
       "1 Appingedam 0  251260.5 594393.8 1     FALSE 1     0.1  \n",
       "2 Appingedam 0  251427.8 594486.7 2     FALSE 1     0.1  \n",
       "3 Appingedam 0  251668.8 594646.8 3     FALSE 1     0.1  \n",
       "4 Appingedam 0  251713.5 594770.9 4     FALSE 1     0.1  \n",
       "5 Appingedam 0  251354.6 595461.4 5     FALSE 1     0.1  \n",
       "6 Appingedam 0  251310.3 596022.5 6     FALSE 1     0.1  "
      ]
     },
     "metadata": {},
     "output_type": "display_data"
    }
   ],
   "source": [
    "map_municipal <- read.csv2(\"../Sourcedata/nld_municipal_map.csv\", stringsAsFactors = FALSE, dec = \".\")\n",
    "head(map_municipal)"
   ]
  },
  {
   "cell_type": "markdown",
   "metadata": {},
   "source": [
    "###### 2a explanation\n",
    "***\n",
    "\n",
    "We use the function *read.csv2()* to store the csv file into a dataframe called map_municipal. We specify *stringsAsFactors =  FALSE* to not convert strings into factors. We also use *dec = \".\"* since this dataset uses the dot as a decimal point."
   ]
  },
  {
   "cell_type": "markdown",
   "metadata": {},
   "source": [
    "## Assignment 2b\n",
    "\n",
    "Now you can make an empty map of the Netherlands."
   ]
  },
  {
   "cell_type": "code",
   "execution_count": 39,
   "metadata": {},
   "outputs": [
    {
     "data": {},
     "metadata": {},
     "output_type": "display_data"
    },
    {
     "data": {
      "image/png": "[encoded data removed]",
      "text/plain": [
       "plot without title"
      ]
     },
     "metadata": {},
     "output_type": "display_data"
    }
   ],
   "source": [
    "empty_map <- AddMapLayer(MapPlot(), map_municipal)\n",
    "empty_map"
   ]
  },
  {
   "cell_type": "markdown",
   "metadata": {},
   "source": [
    "###### 2b explanation\n",
    "***\n",
    "\n",
    "We use *AddMapLayer()* to create a blank map. We specify *map_municipal* as our polygon data is stored in that dataframe. We call this new map *empty_map*."
   ]
  },
  {
   "cell_type": "markdown",
   "metadata": {},
   "source": [
    "## Assignment 2c\n",
    "\n",
    "Read in the pc4 locations (nld_pc4_locations.csv).\n",
    "\n",
    "Hint: Don't forget the X and Y should be numeric variables!"
   ]
  },
  {
   "cell_type": "code",
   "execution_count": 40,
   "metadata": {},
   "outputs": [
    {
     "name": "stdout",
     "output_type": "stream",
     "text": [
      "'data.frame':\t4066 obs. of  3 variables:\n",
      " $ PC4: int  1011 1012 1013 1014 1015 1016 1017 1018 1019 1021 ...\n",
      " $ X  : num  122244 121613 120325 119515 120740 ...\n",
      " $ Y  : num  487223 487555 489672 489422 488009 ...\n"
     ]
    }
   ],
   "source": [
    "pc4_locations <- read.csv2(\"../Sourcedata/nld_pc4_locations.csv\")%>%\n",
    "  mutate(X = as.numeric(as.character(X))) %>%\n",
    "   mutate(Y = as.numeric(as.character(Y)))\n",
    "\n",
    "str(pc4_locations)"
   ]
  },
  {
   "cell_type": "markdown",
   "metadata": {},
   "source": [
    "###### 2c explanation\n",
    "***\n",
    "\n",
    "We import the csv file into pc4_locations using *read.csv2()*. We then use forward-pipe operators with the *mutate()* function to convert X and Y from characters to numeric values."
   ]
  },
  {
   "cell_type": "markdown",
   "metadata": {},
   "source": [
    "## Assignment 2d\n",
    "\n",
    "### 2di\n",
    "\n",
    "Read in the school data\n"
   ]
  },
  {
   "cell_type": "code",
   "execution_count": 41,
   "metadata": {},
   "outputs": [],
   "source": [
    "schools <- read.csv2(\"../Sourcedata/schools.csv\")"
   ]
  },
  {
   "cell_type": "markdown",
   "metadata": {},
   "source": [
    "###### 2di explanation\n",
    "***\n",
    "\n",
    "We import the csv file into schools using *read.csv2()*"
   ]
  },
  {
   "cell_type": "markdown",
   "metadata": {},
   "source": [
    "### 2dii\n",
    "\n",
    "First, create a new dataframe schools1, which is equal to schools.\n",
    "\n",
    "As you see POSTCODE has a structure of (1234 AB). You should create a new variable PC4 that is equal to the first 4 numbers in POSTCODE\n",
    "\n",
    "Hint: Use the function `substr()`\n",
    "\n",
    "Then select the variables PC4 and DENOMINATIE"
   ]
  },
  {
   "cell_type": "code",
   "execution_count": 42,
   "metadata": {},
   "outputs": [],
   "source": [
    "schools1 <- schools %>%\n",
    "    mutate(PC4 = substr(POSTCODE, 1, 4))\n",
    "\n",
    "schools1 <- schools1[c('DENOMINATIE','PC4')]"
   ]
  },
  {
   "cell_type": "markdown",
   "metadata": {},
   "source": [
    "###### 2dii explanation\n",
    "***\n",
    "\n",
    "Using a forward-pipe operator we mutate schools using *mutate(PC4 = substr(POSTCODE, 1, 4))* meaning that we only keep the 1st to 4th values of POSTCODE. We store this new data in a column called PC4 and assign the modified dataframe to schools1. We then select only the two required columns in school1 using *schools1 <- schools1[c('DENOMINATIE','PC4')]*"
   ]
  },
  {
   "cell_type": "markdown",
   "metadata": {},
   "source": [
    "### 2diii\n",
    "\n",
    "Create the dataframe school_loc as a join from pc4_locations and school1 that combines the columns from both data frames, but only keeps rows where the value in the pc4_locations column matches in both data frames.\n",
    "And then select the observations with DENOMINATIE is equal to \"Rooms-Katholiek\" or \"Protestants-Christelijk\""
   ]
  },
  {
   "cell_type": "code",
   "execution_count": 43,
   "metadata": {},
   "outputs": [
    {
     "data": {
      "text/html": [
       "<table>\n",
       "<thead><tr><th></th><th scope=col>PC4</th><th scope=col>X</th><th scope=col>Y</th><th scope=col>DENOMINATIE</th></tr></thead>\n",
       "<tbody>\n",
       "\t<tr><th scope=row>31</th><td>1065                   </td><td>116701.2               </td><td>485645.8               </td><td>Protestants-Christelijk</td></tr>\n",
       "\t<tr><th scope=row>37</th><td>1071                   </td><td>120223.0               </td><td>485571.3               </td><td>Rooms-Katholiek        </td></tr>\n",
       "\t<tr><th scope=row>50</th><td>1077                   </td><td>120152.7               </td><td>484262.8               </td><td>Protestants-Christelijk</td></tr>\n",
       "\t<tr><th scope=row>53</th><td>1077                   </td><td>120152.7               </td><td>484262.8               </td><td>Rooms-Katholiek        </td></tr>\n",
       "\t<tr><th scope=row>57</th><td>1081                   </td><td>118277.6               </td><td>482449.5               </td><td>Protestants-Christelijk</td></tr>\n",
       "\t<tr><th scope=row>80</th><td>1132                   </td><td>132947.2               </td><td>501873.0               </td><td>Rooms-Katholiek        </td></tr>\n",
       "</tbody>\n",
       "</table>\n"
      ],
      "text/latex": [
       "\\begin{tabular}{r|llll}\n",
       "  & PC4 & X & Y & DENOMINATIE\\\\\n",
       "\\hline\n",
       "\t31 & 1065                    & 116701.2                & 485645.8                & Protestants-Christelijk\\\\\n",
       "\t37 & 1071                    & 120223.0                & 485571.3                & Rooms-Katholiek        \\\\\n",
       "\t50 & 1077                    & 120152.7                & 484262.8                & Protestants-Christelijk\\\\\n",
       "\t53 & 1077                    & 120152.7                & 484262.8                & Rooms-Katholiek        \\\\\n",
       "\t57 & 1081                    & 118277.6                & 482449.5                & Protestants-Christelijk\\\\\n",
       "\t80 & 1132                    & 132947.2                & 501873.0                & Rooms-Katholiek        \\\\\n",
       "\\end{tabular}\n"
      ],
      "text/markdown": [
       "\n",
       "| <!--/--> | PC4 | X | Y | DENOMINATIE | \n",
       "|---|---|---|---|---|---|\n",
       "| 31 | 1065                    | 116701.2                | 485645.8                | Protestants-Christelijk | \n",
       "| 37 | 1071                    | 120223.0                | 485571.3                | Rooms-Katholiek         | \n",
       "| 50 | 1077                    | 120152.7                | 484262.8                | Protestants-Christelijk | \n",
       "| 53 | 1077                    | 120152.7                | 484262.8                | Rooms-Katholiek         | \n",
       "| 57 | 1081                    | 118277.6                | 482449.5                | Protestants-Christelijk | \n",
       "| 80 | 1132                    | 132947.2                | 501873.0                | Rooms-Katholiek         | \n",
       "\n",
       "\n"
      ],
      "text/plain": [
       "   PC4  X        Y        DENOMINATIE            \n",
       "31 1065 116701.2 485645.8 Protestants-Christelijk\n",
       "37 1071 120223.0 485571.3 Rooms-Katholiek        \n",
       "50 1077 120152.7 484262.8 Protestants-Christelijk\n",
       "53 1077 120152.7 484262.8 Rooms-Katholiek        \n",
       "57 1081 118277.6 482449.5 Protestants-Christelijk\n",
       "80 1132 132947.2 501873.0 Rooms-Katholiek        "
      ]
     },
     "metadata": {},
     "output_type": "display_data"
    }
   ],
   "source": [
    "school_loc <- merge(pc4_locations, schools1, by = 'PC4',all = FALSE)\n",
    "school_loc <- subset(school_loc, DENOMINATIE == \"Rooms-Katholiek\" | DENOMINATIE == \"Protestants-Christelijk\")\n",
    "head(school_loc)"
   ]
  },
  {
   "cell_type": "markdown",
   "metadata": {},
   "source": [
    "###### 2diii explanation\n",
    "***\n",
    "\n",
    "We use *merge()* to join the two dataframes together, inside *merge()* we first specify the two dataframe that are to be joined. Then we specify *by = 'PC4'* to merge on the basis of the PC4 column and we use *all = FALSE* to remove any rows were the values of the two data frames do not match up, instead of filling the with NaN. We store the new dataframe in *school_loc*.\n",
    "\n",
    "Subsequently we use *subset()* on school_loc to select only the rows we want. Specifying that *DENOMINATIE* needs to be *\"Rooms-Katholiek\"* by using *==* and then using the *|* sign to indicate that *DENOMINATIE* can be *\"Protestants-Christelijk\"* as well."
   ]
  },
  {
   "cell_type": "markdown",
   "metadata": {},
   "source": [
    "## Assignment 2e\n",
    "\n",
    "Create a map of Catholic and Protestant schools in the Netherlands\n"
   ]
  },
  {
   "cell_type": "code",
   "execution_count": 44,
   "metadata": {},
   "outputs": [
    {
     "data": {},
     "metadata": {},
     "output_type": "display_data"
    },
    {
     "data": {
      "image/png": "[encoded data removed]",
      "text/plain": [
       "plot without title"
      ]
     },
     "metadata": {},
     "output_type": "display_data"
    }
   ],
   "source": [
    " empty_map %>%\n",
    "  AddPointsLayer(school_loc, columnNameColor = \"DENOMINATIE\") "
   ]
  },
  {
   "cell_type": "markdown",
   "metadata": {},
   "source": [
    "###### 2e explaination\n",
    "***\n",
    "\n",
    "We fill in *empty_map* from 2b using the data from school_loc with *AddPointsLayer()* we specify *columnNameColor = \"DENOMINATIE\"* to get two seperate colors for the different values of *DENOMINATIE*. A legend is then generated for us.\n",
    "\n",
    "As you can see is the southern part of the Netherlands there are more Roman Catholic schools, were in the north there are more protestant schools. This is to be expected given the history of the Dutch Revolt."
   ]
  },
  {
   "cell_type": "markdown",
   "metadata": {},
   "source": [
    "End of notebook"
   ]
  }
 ],
 "metadata": {
  "anaconda-cloud": {},
  "kernelspec": {
   "display_name": "R",
   "language": "R",
   "name": "ir"
  },
  "language_info": {
   "codemirror_mode": "r",
   "file_extension": ".r",
   "mimetype": "text/x-r-source",
   "name": "R",
   "pygments_lexer": "r",
   "version": "3.4.3"
  }
 },
 "nbformat": 4,
 "nbformat_minor": 1
}
